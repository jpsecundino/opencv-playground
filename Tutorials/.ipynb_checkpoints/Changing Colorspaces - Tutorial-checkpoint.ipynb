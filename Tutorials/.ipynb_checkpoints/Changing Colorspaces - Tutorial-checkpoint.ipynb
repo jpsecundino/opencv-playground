{
 "cells": [
  {
   "cell_type": "code",
   "execution_count": 4,
   "metadata": {},
   "outputs": [],
   "source": [
    "import cv2 as cv\n",
    "import numpy as np"
   ]
  },
  {
   "cell_type": "code",
   "execution_count": 2,
   "metadata": {},
   "outputs": [],
   "source": [
    "def create_hsv_range(uint8_BGR_array):\n",
    "    hsv = cv.cvtColor(uint8_BGR_array, cv.COLOR_BGR2HSV)\n",
    "    lowerLimit = hsv[0][0][0] - 15, 100, 100\n",
    "    upperLimit = hsv[0][0][0] + 15, 255, 255\n",
    "    return np.array(lowerLimit), np.array(upperLimit)\n"
   ]
  },
  {
   "cell_type": "code",
   "execution_count": 5,
   "metadata": {},
   "outputs": [],
   "source": [
    "##reading an image\n",
    "image = cv.imread('./Images/cn.jpg', 1)\n",
    "\n",
    "cv.imshow('image', image)\n",
    "\n",
    "cv.waitKey(0)\n",
    "\n",
    "cv.destroyAllWindows()"
   ]
  },
  {
   "cell_type": "code",
   "execution_count": 8,
   "metadata": {},
   "outputs": [],
   "source": [
    "##reading a video from camera (following open-cv tutorial)\n",
    "cap = cv.VideoCapture(0)\n",
    "\n",
    "while(True):\n",
    "    # Capture frame-by-frame\n",
    "    ret, frame = cap.read()\n",
    "\n",
    "    # Our operations on the frame come here\n",
    "    gray = cv.cvtColor(frame, cv.COLOR_BGR2GRAY)\n",
    "\n",
    "    # Display the resulting frame\n",
    "    cv.imshow('frame',gray)\n",
    "    if cv.waitKey(1) & 0xFF == ord('q'):\n",
    "        break\n",
    "\n",
    "# When everything done, release the capture\n",
    "cap.release()\n",
    "cv.destroyAllWindows()"
   ]
  },
  {
   "cell_type": "code",
   "execution_count": 5,
   "metadata": {},
   "outputs": [],
   "source": [
    "##show only red, blue and green items from computer camera\n",
    "cap = cv.VideoCapture(0)\n",
    "\n",
    "while(True):\n",
    "    \n",
    "    if cap.isOpened():\n",
    "        _,frame = cap.read()\n",
    "\n",
    "        hsv = cv.cvtColor(frame, cv.COLOR_BGR2HSV)\n",
    "        \n",
    "        ##blue\n",
    "        lower_color1, upper_color1 = create_hsv_range(np.uint8([[[255,0,0]]]))\n",
    "\n",
    "        ##yellow\n",
    "        lower_color2, upper_color2 = create_hsv_range(np.uint8([[[0,255,0]]]))\n",
    "        \n",
    "        ##pink\n",
    "        lower_color3, upper_color3 = create_hsv_range(np.uint8([[[0,0,255]]]))\n",
    "\n",
    "        \n",
    "        mask1 = cv.inRange(hsv, lower_color1, upper_color1)\n",
    "        mask2 = cv.inRange(hsv, lower_color2, upper_color2)\n",
    "        mask3 = cv.inRange(hsv, lower_color3, upper_color3)\n",
    "\n",
    "        res1 = cv.bitwise_and(frame, frame, mask= mask1)\n",
    "        res2 = cv.bitwise_and(frame, frame, mask= mask2)\n",
    "        res3 = cv.bitwise_and(frame, frame, mask= mask3)\n",
    "        \n",
    "        res = res1 + res2 + res3\n",
    "\n",
    "        # Display the resulting frame\n",
    "        cv.imshow('frame', frame)\n",
    "        cv.imshow('mask1', mask1)\n",
    "        cv.imshow('mask2', mask2)\n",
    "        cv.imshow('mask3', mask3)\n",
    "        cv.imshow('result', res)\n",
    "\n",
    "        if cv.waitKey(1) & 0xFF == ord('q'):\n",
    "            break\n",
    "            \n",
    "cap.release()\n",
    "cv.destroyAllWindows()"
   ]
  },
  {
   "cell_type": "code",
   "execution_count": 4,
   "metadata": {},
   "outputs": [],
   "source": []
  }
 ],
 "metadata": {
  "kernelspec": {
   "display_name": "Python 3",
   "language": "python",
   "name": "python3"
  },
  "language_info": {
   "codemirror_mode": {
    "name": "ipython",
    "version": 3
   },
   "file_extension": ".py",
   "mimetype": "text/x-python",
   "name": "python",
   "nbconvert_exporter": "python",
   "pygments_lexer": "ipython3",
   "version": "3.6.9"
  }
 },
 "nbformat": 4,
 "nbformat_minor": 4
}
